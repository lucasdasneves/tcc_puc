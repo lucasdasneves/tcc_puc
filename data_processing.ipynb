{
 "cells": [
  {
   "cell_type": "code",
   "execution_count": 179,
   "metadata": {},
   "outputs": [],
   "source": [
    "import pandas as pd"
   ]
  },
  {
   "cell_type": "code",
   "execution_count": 180,
   "metadata": {},
   "outputs": [],
   "source": [
    "df_ibov = pd.read_csv(filepath_or_buffer='./ibovespa_94_22.csv')"
   ]
  },
  {
   "cell_type": "code",
   "execution_count": 181,
   "metadata": {},
   "outputs": [
    {
     "data": {
      "text/plain": [
       "Date           0\n",
       "Open         178\n",
       "High         178\n",
       "Low          178\n",
       "Close        178\n",
       "Adj Close    178\n",
       "Volume       178\n",
       "dtype: int64"
      ]
     },
     "execution_count": 181,
     "metadata": {},
     "output_type": "execute_result"
    }
   ],
   "source": [
    "df_ibov.isna().sum()"
   ]
  },
  {
   "cell_type": "code",
   "execution_count": 182,
   "metadata": {},
   "outputs": [],
   "source": [
    "df_ibov['Close'].fillna((df_ibov['Close'].interpolate()),inplace=True)"
   ]
  },
  {
   "cell_type": "code",
   "execution_count": 183,
   "metadata": {},
   "outputs": [
    {
     "data": {
      "text/html": [
       "<div>\n",
       "<style scoped>\n",
       "    .dataframe tbody tr th:only-of-type {\n",
       "        vertical-align: middle;\n",
       "    }\n",
       "\n",
       "    .dataframe tbody tr th {\n",
       "        vertical-align: top;\n",
       "    }\n",
       "\n",
       "    .dataframe thead th {\n",
       "        text-align: right;\n",
       "    }\n",
       "</style>\n",
       "<table border=\"1\" class=\"dataframe\">\n",
       "  <thead>\n",
       "    <tr style=\"text-align: right;\">\n",
       "      <th></th>\n",
       "      <th>Date</th>\n",
       "      <th>Open</th>\n",
       "      <th>High</th>\n",
       "      <th>Low</th>\n",
       "      <th>Close</th>\n",
       "      <th>Adj Close</th>\n",
       "      <th>Volume</th>\n",
       "    </tr>\n",
       "  </thead>\n",
       "  <tbody>\n",
       "    <tr>\n",
       "      <th>0</th>\n",
       "      <td>1993-04-28</td>\n",
       "      <td>24.500000</td>\n",
       "      <td>24.600000</td>\n",
       "      <td>23.700001</td>\n",
       "      <td>24.299999</td>\n",
       "      <td>24.299999</td>\n",
       "      <td>0.0</td>\n",
       "    </tr>\n",
       "    <tr>\n",
       "      <th>1</th>\n",
       "      <td>1993-04-29</td>\n",
       "      <td>24.299999</td>\n",
       "      <td>24.799999</td>\n",
       "      <td>23.700001</td>\n",
       "      <td>23.700001</td>\n",
       "      <td>23.700001</td>\n",
       "      <td>0.0</td>\n",
       "    </tr>\n",
       "    <tr>\n",
       "      <th>2</th>\n",
       "      <td>1993-04-30</td>\n",
       "      <td>23.700001</td>\n",
       "      <td>24.200001</td>\n",
       "      <td>23.700001</td>\n",
       "      <td>24.100000</td>\n",
       "      <td>24.100000</td>\n",
       "      <td>0.0</td>\n",
       "    </tr>\n",
       "    <tr>\n",
       "      <th>3</th>\n",
       "      <td>1993-05-03</td>\n",
       "      <td>24.100000</td>\n",
       "      <td>24.400000</td>\n",
       "      <td>23.799999</td>\n",
       "      <td>24.100000</td>\n",
       "      <td>24.100000</td>\n",
       "      <td>0.0</td>\n",
       "    </tr>\n",
       "    <tr>\n",
       "      <th>4</th>\n",
       "      <td>1993-05-04</td>\n",
       "      <td>24.100000</td>\n",
       "      <td>25.000000</td>\n",
       "      <td>24.100000</td>\n",
       "      <td>24.900000</td>\n",
       "      <td>24.900000</td>\n",
       "      <td>0.0</td>\n",
       "    </tr>\n",
       "  </tbody>\n",
       "</table>\n",
       "</div>"
      ],
      "text/plain": [
       "         Date       Open       High        Low      Close  Adj Close  Volume\n",
       "0  1993-04-28  24.500000  24.600000  23.700001  24.299999  24.299999     0.0\n",
       "1  1993-04-29  24.299999  24.799999  23.700001  23.700001  23.700001     0.0\n",
       "2  1993-04-30  23.700001  24.200001  23.700001  24.100000  24.100000     0.0\n",
       "3  1993-05-03  24.100000  24.400000  23.799999  24.100000  24.100000     0.0\n",
       "4  1993-05-04  24.100000  25.000000  24.100000  24.900000  24.900000     0.0"
      ]
     },
     "execution_count": 183,
     "metadata": {},
     "output_type": "execute_result"
    }
   ],
   "source": [
    "df_ibov.head()"
   ]
  },
  {
   "cell_type": "code",
   "execution_count": 184,
   "metadata": {},
   "outputs": [],
   "source": [
    "df_ibov['Date'] = pd.to_datetime(df_ibov['Date'])"
   ]
  },
  {
   "cell_type": "code",
   "execution_count": 185,
   "metadata": {},
   "outputs": [],
   "source": [
    "df_ibov = df_ibov[(df_ibov['Date'] <= '2022-07-18') & (df_ibov['Date'] >= '2000-01-01')]"
   ]
  },
  {
   "cell_type": "code",
   "execution_count": 186,
   "metadata": {},
   "outputs": [
    {
     "data": {
      "text/html": [
       "<div>\n",
       "<style scoped>\n",
       "    .dataframe tbody tr th:only-of-type {\n",
       "        vertical-align: middle;\n",
       "    }\n",
       "\n",
       "    .dataframe tbody tr th {\n",
       "        vertical-align: top;\n",
       "    }\n",
       "\n",
       "    .dataframe thead th {\n",
       "        text-align: right;\n",
       "    }\n",
       "</style>\n",
       "<table border=\"1\" class=\"dataframe\">\n",
       "  <thead>\n",
       "    <tr style=\"text-align: right;\">\n",
       "      <th></th>\n",
       "      <th>Date</th>\n",
       "      <th>Open</th>\n",
       "      <th>High</th>\n",
       "      <th>Low</th>\n",
       "      <th>Close</th>\n",
       "      <th>Adj Close</th>\n",
       "      <th>Volume</th>\n",
       "    </tr>\n",
       "  </thead>\n",
       "  <tbody>\n",
       "    <tr>\n",
       "      <th>1743</th>\n",
       "      <td>2000-01-03</td>\n",
       "      <td>17098.0</td>\n",
       "      <td>17408.0</td>\n",
       "      <td>16719.0</td>\n",
       "      <td>16930.0</td>\n",
       "      <td>16930.0</td>\n",
       "      <td>0.0</td>\n",
       "    </tr>\n",
       "    <tr>\n",
       "      <th>1744</th>\n",
       "      <td>2000-01-04</td>\n",
       "      <td>16908.0</td>\n",
       "      <td>16908.0</td>\n",
       "      <td>15851.0</td>\n",
       "      <td>15851.0</td>\n",
       "      <td>15851.0</td>\n",
       "      <td>0.0</td>\n",
       "    </tr>\n",
       "    <tr>\n",
       "      <th>1745</th>\n",
       "      <td>2000-01-05</td>\n",
       "      <td>15871.0</td>\n",
       "      <td>16302.0</td>\n",
       "      <td>15350.0</td>\n",
       "      <td>16245.0</td>\n",
       "      <td>16245.0</td>\n",
       "      <td>0.0</td>\n",
       "    </tr>\n",
       "    <tr>\n",
       "      <th>1746</th>\n",
       "      <td>2000-01-06</td>\n",
       "      <td>16237.0</td>\n",
       "      <td>16499.0</td>\n",
       "      <td>15977.0</td>\n",
       "      <td>16107.0</td>\n",
       "      <td>16107.0</td>\n",
       "      <td>0.0</td>\n",
       "    </tr>\n",
       "    <tr>\n",
       "      <th>1747</th>\n",
       "      <td>2000-01-07</td>\n",
       "      <td>16125.0</td>\n",
       "      <td>16449.0</td>\n",
       "      <td>16125.0</td>\n",
       "      <td>16309.0</td>\n",
       "      <td>16309.0</td>\n",
       "      <td>0.0</td>\n",
       "    </tr>\n",
       "  </tbody>\n",
       "</table>\n",
       "</div>"
      ],
      "text/plain": [
       "           Date     Open     High      Low    Close  Adj Close  Volume\n",
       "1743 2000-01-03  17098.0  17408.0  16719.0  16930.0    16930.0     0.0\n",
       "1744 2000-01-04  16908.0  16908.0  15851.0  15851.0    15851.0     0.0\n",
       "1745 2000-01-05  15871.0  16302.0  15350.0  16245.0    16245.0     0.0\n",
       "1746 2000-01-06  16237.0  16499.0  15977.0  16107.0    16107.0     0.0\n",
       "1747 2000-01-07  16125.0  16449.0  16125.0  16309.0    16309.0     0.0"
      ]
     },
     "execution_count": 186,
     "metadata": {},
     "output_type": "execute_result"
    }
   ],
   "source": [
    "df_ibov.head()"
   ]
  },
  {
   "cell_type": "code",
   "execution_count": 187,
   "metadata": {},
   "outputs": [],
   "source": [
    "df_ibov.set_index('Date', inplace=True)"
   ]
  },
  {
   "cell_type": "code",
   "execution_count": 188,
   "metadata": {},
   "outputs": [
    {
     "data": {
      "text/html": [
       "<div>\n",
       "<style scoped>\n",
       "    .dataframe tbody tr th:only-of-type {\n",
       "        vertical-align: middle;\n",
       "    }\n",
       "\n",
       "    .dataframe tbody tr th {\n",
       "        vertical-align: top;\n",
       "    }\n",
       "\n",
       "    .dataframe thead th {\n",
       "        text-align: right;\n",
       "    }\n",
       "</style>\n",
       "<table border=\"1\" class=\"dataframe\">\n",
       "  <thead>\n",
       "    <tr style=\"text-align: right;\">\n",
       "      <th></th>\n",
       "      <th>Open</th>\n",
       "      <th>High</th>\n",
       "      <th>Low</th>\n",
       "      <th>Close</th>\n",
       "      <th>Adj Close</th>\n",
       "      <th>Volume</th>\n",
       "    </tr>\n",
       "    <tr>\n",
       "      <th>Date</th>\n",
       "      <th></th>\n",
       "      <th></th>\n",
       "      <th></th>\n",
       "      <th></th>\n",
       "      <th></th>\n",
       "      <th></th>\n",
       "    </tr>\n",
       "  </thead>\n",
       "  <tbody>\n",
       "    <tr>\n",
       "      <th>2000-01-03</th>\n",
       "      <td>17098.0</td>\n",
       "      <td>17408.0</td>\n",
       "      <td>16719.0</td>\n",
       "      <td>16930.0</td>\n",
       "      <td>16930.0</td>\n",
       "      <td>0.0</td>\n",
       "    </tr>\n",
       "    <tr>\n",
       "      <th>2000-01-04</th>\n",
       "      <td>16908.0</td>\n",
       "      <td>16908.0</td>\n",
       "      <td>15851.0</td>\n",
       "      <td>15851.0</td>\n",
       "      <td>15851.0</td>\n",
       "      <td>0.0</td>\n",
       "    </tr>\n",
       "    <tr>\n",
       "      <th>2000-01-05</th>\n",
       "      <td>15871.0</td>\n",
       "      <td>16302.0</td>\n",
       "      <td>15350.0</td>\n",
       "      <td>16245.0</td>\n",
       "      <td>16245.0</td>\n",
       "      <td>0.0</td>\n",
       "    </tr>\n",
       "    <tr>\n",
       "      <th>2000-01-06</th>\n",
       "      <td>16237.0</td>\n",
       "      <td>16499.0</td>\n",
       "      <td>15977.0</td>\n",
       "      <td>16107.0</td>\n",
       "      <td>16107.0</td>\n",
       "      <td>0.0</td>\n",
       "    </tr>\n",
       "    <tr>\n",
       "      <th>2000-01-07</th>\n",
       "      <td>16125.0</td>\n",
       "      <td>16449.0</td>\n",
       "      <td>16125.0</td>\n",
       "      <td>16309.0</td>\n",
       "      <td>16309.0</td>\n",
       "      <td>0.0</td>\n",
       "    </tr>\n",
       "  </tbody>\n",
       "</table>\n",
       "</div>"
      ],
      "text/plain": [
       "               Open     High      Low    Close  Adj Close  Volume\n",
       "Date                                                             \n",
       "2000-01-03  17098.0  17408.0  16719.0  16930.0    16930.0     0.0\n",
       "2000-01-04  16908.0  16908.0  15851.0  15851.0    15851.0     0.0\n",
       "2000-01-05  15871.0  16302.0  15350.0  16245.0    16245.0     0.0\n",
       "2000-01-06  16237.0  16499.0  15977.0  16107.0    16107.0     0.0\n",
       "2000-01-07  16125.0  16449.0  16125.0  16309.0    16309.0     0.0"
      ]
     },
     "execution_count": 188,
     "metadata": {},
     "output_type": "execute_result"
    }
   ],
   "source": [
    "df_ibov.head()"
   ]
  },
  {
   "cell_type": "code",
   "execution_count": 189,
   "metadata": {},
   "outputs": [],
   "source": [
    "df_ibov.to_csv('df_ibov.csv')"
   ]
  },
  {
   "cell_type": "code",
   "execution_count": 190,
   "metadata": {},
   "outputs": [],
   "source": [
    "################"
   ]
  },
  {
   "cell_type": "code",
   "execution_count": 191,
   "metadata": {},
   "outputs": [],
   "source": [
    "df_1 = pd.read_csv(filepath_or_buffer='./usd_94_2013.csv')\n",
    "df_2 = pd.read_csv(filepath_or_buffer='./usd_2013_2022.csv')"
   ]
  },
  {
   "cell_type": "code",
   "execution_count": 192,
   "metadata": {},
   "outputs": [],
   "source": [
    "df_dol = pd.concat([df_1,df_2])"
   ]
  },
  {
   "cell_type": "code",
   "execution_count": 193,
   "metadata": {},
   "outputs": [
    {
     "data": {
      "text/html": [
       "<div>\n",
       "<style scoped>\n",
       "    .dataframe tbody tr th:only-of-type {\n",
       "        vertical-align: middle;\n",
       "    }\n",
       "\n",
       "    .dataframe tbody tr th {\n",
       "        vertical-align: top;\n",
       "    }\n",
       "\n",
       "    .dataframe thead th {\n",
       "        text-align: right;\n",
       "    }\n",
       "</style>\n",
       "<table border=\"1\" class=\"dataframe\">\n",
       "  <thead>\n",
       "    <tr style=\"text-align: right;\">\n",
       "      <th></th>\n",
       "      <th>Date</th>\n",
       "      <th>Price</th>\n",
       "      <th>Open</th>\n",
       "      <th>High</th>\n",
       "      <th>Low</th>\n",
       "      <th>Change %</th>\n",
       "    </tr>\n",
       "  </thead>\n",
       "  <tbody>\n",
       "    <tr>\n",
       "      <th>0</th>\n",
       "      <td>Jul 09, 2013</td>\n",
       "      <td>2.2571</td>\n",
       "      <td>2.2650</td>\n",
       "      <td>2.2659</td>\n",
       "      <td>2.2571</td>\n",
       "      <td>-0.31%</td>\n",
       "    </tr>\n",
       "    <tr>\n",
       "      <th>1</th>\n",
       "      <td>Jul 08, 2013</td>\n",
       "      <td>2.2642</td>\n",
       "      <td>2.2524</td>\n",
       "      <td>2.2648</td>\n",
       "      <td>2.2443</td>\n",
       "      <td>0.52%</td>\n",
       "    </tr>\n",
       "    <tr>\n",
       "      <th>2</th>\n",
       "      <td>Jul 05, 2013</td>\n",
       "      <td>2.2525</td>\n",
       "      <td>2.2485</td>\n",
       "      <td>2.2707</td>\n",
       "      <td>2.2440</td>\n",
       "      <td>0.20%</td>\n",
       "    </tr>\n",
       "    <tr>\n",
       "      <th>3</th>\n",
       "      <td>Jul 04, 2013</td>\n",
       "      <td>2.2480</td>\n",
       "      <td>2.2681</td>\n",
       "      <td>2.2728</td>\n",
       "      <td>2.2475</td>\n",
       "      <td>-0.89%</td>\n",
       "    </tr>\n",
       "    <tr>\n",
       "      <th>4</th>\n",
       "      <td>Jul 03, 2013</td>\n",
       "      <td>2.2681</td>\n",
       "      <td>2.2540</td>\n",
       "      <td>2.2717</td>\n",
       "      <td>2.2506</td>\n",
       "      <td>0.60%</td>\n",
       "    </tr>\n",
       "  </tbody>\n",
       "</table>\n",
       "</div>"
      ],
      "text/plain": [
       "           Date   Price    Open    High     Low Change %\n",
       "0  Jul 09, 2013  2.2571  2.2650  2.2659  2.2571   -0.31%\n",
       "1  Jul 08, 2013  2.2642  2.2524  2.2648  2.2443    0.52%\n",
       "2  Jul 05, 2013  2.2525  2.2485  2.2707  2.2440    0.20%\n",
       "3  Jul 04, 2013  2.2480  2.2681  2.2728  2.2475   -0.89%\n",
       "4  Jul 03, 2013  2.2681  2.2540  2.2717  2.2506    0.60%"
      ]
     },
     "execution_count": 193,
     "metadata": {},
     "output_type": "execute_result"
    }
   ],
   "source": [
    "df_dol.head()"
   ]
  },
  {
   "cell_type": "code",
   "execution_count": 194,
   "metadata": {},
   "outputs": [],
   "source": [
    "df_dol['Date'] = df_dol['Date'].str.replace(' ','-')"
   ]
  },
  {
   "cell_type": "code",
   "execution_count": 195,
   "metadata": {},
   "outputs": [],
   "source": [
    "df_dol['Date'] = df_dol['Date'].str.replace(',','')"
   ]
  },
  {
   "cell_type": "code",
   "execution_count": 196,
   "metadata": {},
   "outputs": [
    {
     "data": {
      "text/html": [
       "<div>\n",
       "<style scoped>\n",
       "    .dataframe tbody tr th:only-of-type {\n",
       "        vertical-align: middle;\n",
       "    }\n",
       "\n",
       "    .dataframe tbody tr th {\n",
       "        vertical-align: top;\n",
       "    }\n",
       "\n",
       "    .dataframe thead th {\n",
       "        text-align: right;\n",
       "    }\n",
       "</style>\n",
       "<table border=\"1\" class=\"dataframe\">\n",
       "  <thead>\n",
       "    <tr style=\"text-align: right;\">\n",
       "      <th></th>\n",
       "      <th>Date</th>\n",
       "      <th>Price</th>\n",
       "      <th>Open</th>\n",
       "      <th>High</th>\n",
       "      <th>Low</th>\n",
       "      <th>Change %</th>\n",
       "    </tr>\n",
       "  </thead>\n",
       "  <tbody>\n",
       "    <tr>\n",
       "      <th>0</th>\n",
       "      <td>Jul-09-2013</td>\n",
       "      <td>2.2571</td>\n",
       "      <td>2.2650</td>\n",
       "      <td>2.2659</td>\n",
       "      <td>2.2571</td>\n",
       "      <td>-0.31%</td>\n",
       "    </tr>\n",
       "    <tr>\n",
       "      <th>1</th>\n",
       "      <td>Jul-08-2013</td>\n",
       "      <td>2.2642</td>\n",
       "      <td>2.2524</td>\n",
       "      <td>2.2648</td>\n",
       "      <td>2.2443</td>\n",
       "      <td>0.52%</td>\n",
       "    </tr>\n",
       "    <tr>\n",
       "      <th>2</th>\n",
       "      <td>Jul-05-2013</td>\n",
       "      <td>2.2525</td>\n",
       "      <td>2.2485</td>\n",
       "      <td>2.2707</td>\n",
       "      <td>2.2440</td>\n",
       "      <td>0.20%</td>\n",
       "    </tr>\n",
       "    <tr>\n",
       "      <th>3</th>\n",
       "      <td>Jul-04-2013</td>\n",
       "      <td>2.2480</td>\n",
       "      <td>2.2681</td>\n",
       "      <td>2.2728</td>\n",
       "      <td>2.2475</td>\n",
       "      <td>-0.89%</td>\n",
       "    </tr>\n",
       "    <tr>\n",
       "      <th>4</th>\n",
       "      <td>Jul-03-2013</td>\n",
       "      <td>2.2681</td>\n",
       "      <td>2.2540</td>\n",
       "      <td>2.2717</td>\n",
       "      <td>2.2506</td>\n",
       "      <td>0.60%</td>\n",
       "    </tr>\n",
       "  </tbody>\n",
       "</table>\n",
       "</div>"
      ],
      "text/plain": [
       "          Date   Price    Open    High     Low Change %\n",
       "0  Jul-09-2013  2.2571  2.2650  2.2659  2.2571   -0.31%\n",
       "1  Jul-08-2013  2.2642  2.2524  2.2648  2.2443    0.52%\n",
       "2  Jul-05-2013  2.2525  2.2485  2.2707  2.2440    0.20%\n",
       "3  Jul-04-2013  2.2480  2.2681  2.2728  2.2475   -0.89%\n",
       "4  Jul-03-2013  2.2681  2.2540  2.2717  2.2506    0.60%"
      ]
     },
     "execution_count": 196,
     "metadata": {},
     "output_type": "execute_result"
    }
   ],
   "source": [
    "df_dol.head()"
   ]
  },
  {
   "cell_type": "code",
   "execution_count": 197,
   "metadata": {},
   "outputs": [],
   "source": [
    "df_dol['Date'] = pd.to_datetime(df_dol.Date)"
   ]
  },
  {
   "cell_type": "code",
   "execution_count": 198,
   "metadata": {},
   "outputs": [
    {
     "data": {
      "text/html": [
       "<div>\n",
       "<style scoped>\n",
       "    .dataframe tbody tr th:only-of-type {\n",
       "        vertical-align: middle;\n",
       "    }\n",
       "\n",
       "    .dataframe tbody tr th {\n",
       "        vertical-align: top;\n",
       "    }\n",
       "\n",
       "    .dataframe thead th {\n",
       "        text-align: right;\n",
       "    }\n",
       "</style>\n",
       "<table border=\"1\" class=\"dataframe\">\n",
       "  <thead>\n",
       "    <tr style=\"text-align: right;\">\n",
       "      <th></th>\n",
       "      <th>Date</th>\n",
       "      <th>Price</th>\n",
       "      <th>Open</th>\n",
       "      <th>High</th>\n",
       "      <th>Low</th>\n",
       "      <th>Change %</th>\n",
       "    </tr>\n",
       "  </thead>\n",
       "  <tbody>\n",
       "    <tr>\n",
       "      <th>0</th>\n",
       "      <td>2013-07-09</td>\n",
       "      <td>2.2571</td>\n",
       "      <td>2.2650</td>\n",
       "      <td>2.2659</td>\n",
       "      <td>2.2571</td>\n",
       "      <td>-0.31%</td>\n",
       "    </tr>\n",
       "    <tr>\n",
       "      <th>1</th>\n",
       "      <td>2013-07-08</td>\n",
       "      <td>2.2642</td>\n",
       "      <td>2.2524</td>\n",
       "      <td>2.2648</td>\n",
       "      <td>2.2443</td>\n",
       "      <td>0.52%</td>\n",
       "    </tr>\n",
       "    <tr>\n",
       "      <th>2</th>\n",
       "      <td>2013-07-05</td>\n",
       "      <td>2.2525</td>\n",
       "      <td>2.2485</td>\n",
       "      <td>2.2707</td>\n",
       "      <td>2.2440</td>\n",
       "      <td>0.20%</td>\n",
       "    </tr>\n",
       "    <tr>\n",
       "      <th>3</th>\n",
       "      <td>2013-07-04</td>\n",
       "      <td>2.2480</td>\n",
       "      <td>2.2681</td>\n",
       "      <td>2.2728</td>\n",
       "      <td>2.2475</td>\n",
       "      <td>-0.89%</td>\n",
       "    </tr>\n",
       "    <tr>\n",
       "      <th>4</th>\n",
       "      <td>2013-07-03</td>\n",
       "      <td>2.2681</td>\n",
       "      <td>2.2540</td>\n",
       "      <td>2.2717</td>\n",
       "      <td>2.2506</td>\n",
       "      <td>0.60%</td>\n",
       "    </tr>\n",
       "  </tbody>\n",
       "</table>\n",
       "</div>"
      ],
      "text/plain": [
       "        Date   Price    Open    High     Low Change %\n",
       "0 2013-07-09  2.2571  2.2650  2.2659  2.2571   -0.31%\n",
       "1 2013-07-08  2.2642  2.2524  2.2648  2.2443    0.52%\n",
       "2 2013-07-05  2.2525  2.2485  2.2707  2.2440    0.20%\n",
       "3 2013-07-04  2.2480  2.2681  2.2728  2.2475   -0.89%\n",
       "4 2013-07-03  2.2681  2.2540  2.2717  2.2506    0.60%"
      ]
     },
     "execution_count": 198,
     "metadata": {},
     "output_type": "execute_result"
    }
   ],
   "source": [
    "df_dol.head()"
   ]
  },
  {
   "cell_type": "code",
   "execution_count": 199,
   "metadata": {},
   "outputs": [],
   "source": [
    "df_dol['Date'] = df_dol['Date'].dt.strftime('%Y-%m-%d')"
   ]
  },
  {
   "cell_type": "code",
   "execution_count": 200,
   "metadata": {},
   "outputs": [
    {
     "data": {
      "text/html": [
       "<div>\n",
       "<style scoped>\n",
       "    .dataframe tbody tr th:only-of-type {\n",
       "        vertical-align: middle;\n",
       "    }\n",
       "\n",
       "    .dataframe tbody tr th {\n",
       "        vertical-align: top;\n",
       "    }\n",
       "\n",
       "    .dataframe thead th {\n",
       "        text-align: right;\n",
       "    }\n",
       "</style>\n",
       "<table border=\"1\" class=\"dataframe\">\n",
       "  <thead>\n",
       "    <tr style=\"text-align: right;\">\n",
       "      <th></th>\n",
       "      <th>Date</th>\n",
       "      <th>Price</th>\n",
       "      <th>Open</th>\n",
       "      <th>High</th>\n",
       "      <th>Low</th>\n",
       "      <th>Change %</th>\n",
       "    </tr>\n",
       "  </thead>\n",
       "  <tbody>\n",
       "    <tr>\n",
       "      <th>0</th>\n",
       "      <td>2013-07-09</td>\n",
       "      <td>2.2571</td>\n",
       "      <td>2.2650</td>\n",
       "      <td>2.2659</td>\n",
       "      <td>2.2571</td>\n",
       "      <td>-0.31%</td>\n",
       "    </tr>\n",
       "    <tr>\n",
       "      <th>1</th>\n",
       "      <td>2013-07-08</td>\n",
       "      <td>2.2642</td>\n",
       "      <td>2.2524</td>\n",
       "      <td>2.2648</td>\n",
       "      <td>2.2443</td>\n",
       "      <td>0.52%</td>\n",
       "    </tr>\n",
       "    <tr>\n",
       "      <th>2</th>\n",
       "      <td>2013-07-05</td>\n",
       "      <td>2.2525</td>\n",
       "      <td>2.2485</td>\n",
       "      <td>2.2707</td>\n",
       "      <td>2.2440</td>\n",
       "      <td>0.20%</td>\n",
       "    </tr>\n",
       "    <tr>\n",
       "      <th>3</th>\n",
       "      <td>2013-07-04</td>\n",
       "      <td>2.2480</td>\n",
       "      <td>2.2681</td>\n",
       "      <td>2.2728</td>\n",
       "      <td>2.2475</td>\n",
       "      <td>-0.89%</td>\n",
       "    </tr>\n",
       "    <tr>\n",
       "      <th>4</th>\n",
       "      <td>2013-07-03</td>\n",
       "      <td>2.2681</td>\n",
       "      <td>2.2540</td>\n",
       "      <td>2.2717</td>\n",
       "      <td>2.2506</td>\n",
       "      <td>0.60%</td>\n",
       "    </tr>\n",
       "  </tbody>\n",
       "</table>\n",
       "</div>"
      ],
      "text/plain": [
       "         Date   Price    Open    High     Low Change %\n",
       "0  2013-07-09  2.2571  2.2650  2.2659  2.2571   -0.31%\n",
       "1  2013-07-08  2.2642  2.2524  2.2648  2.2443    0.52%\n",
       "2  2013-07-05  2.2525  2.2485  2.2707  2.2440    0.20%\n",
       "3  2013-07-04  2.2480  2.2681  2.2728  2.2475   -0.89%\n",
       "4  2013-07-03  2.2681  2.2540  2.2717  2.2506    0.60%"
      ]
     },
     "execution_count": 200,
     "metadata": {},
     "output_type": "execute_result"
    }
   ],
   "source": [
    "df_dol.head()"
   ]
  },
  {
   "cell_type": "code",
   "execution_count": 201,
   "metadata": {},
   "outputs": [],
   "source": [
    "df_dol = df_dol[(df_dol['Date'] <= '2022-07-18') & (df_dol['Date'] >= '2000-01-01')]"
   ]
  },
  {
   "cell_type": "code",
   "execution_count": 202,
   "metadata": {},
   "outputs": [],
   "source": [
    "df_dol = df_dol.set_index('Date')"
   ]
  },
  {
   "cell_type": "code",
   "execution_count": 203,
   "metadata": {},
   "outputs": [
    {
     "data": {
      "text/html": [
       "<div>\n",
       "<style scoped>\n",
       "    .dataframe tbody tr th:only-of-type {\n",
       "        vertical-align: middle;\n",
       "    }\n",
       "\n",
       "    .dataframe tbody tr th {\n",
       "        vertical-align: top;\n",
       "    }\n",
       "\n",
       "    .dataframe thead th {\n",
       "        text-align: right;\n",
       "    }\n",
       "</style>\n",
       "<table border=\"1\" class=\"dataframe\">\n",
       "  <thead>\n",
       "    <tr style=\"text-align: right;\">\n",
       "      <th></th>\n",
       "      <th>Price</th>\n",
       "      <th>Open</th>\n",
       "      <th>High</th>\n",
       "      <th>Low</th>\n",
       "      <th>Change %</th>\n",
       "    </tr>\n",
       "    <tr>\n",
       "      <th>Date</th>\n",
       "      <th></th>\n",
       "      <th></th>\n",
       "      <th></th>\n",
       "      <th></th>\n",
       "      <th></th>\n",
       "    </tr>\n",
       "  </thead>\n",
       "  <tbody>\n",
       "    <tr>\n",
       "      <th>2013-07-09</th>\n",
       "      <td>2.2571</td>\n",
       "      <td>2.2650</td>\n",
       "      <td>2.2659</td>\n",
       "      <td>2.2571</td>\n",
       "      <td>-0.31%</td>\n",
       "    </tr>\n",
       "    <tr>\n",
       "      <th>2013-07-08</th>\n",
       "      <td>2.2642</td>\n",
       "      <td>2.2524</td>\n",
       "      <td>2.2648</td>\n",
       "      <td>2.2443</td>\n",
       "      <td>0.52%</td>\n",
       "    </tr>\n",
       "    <tr>\n",
       "      <th>2013-07-05</th>\n",
       "      <td>2.2525</td>\n",
       "      <td>2.2485</td>\n",
       "      <td>2.2707</td>\n",
       "      <td>2.2440</td>\n",
       "      <td>0.20%</td>\n",
       "    </tr>\n",
       "    <tr>\n",
       "      <th>2013-07-04</th>\n",
       "      <td>2.2480</td>\n",
       "      <td>2.2681</td>\n",
       "      <td>2.2728</td>\n",
       "      <td>2.2475</td>\n",
       "      <td>-0.89%</td>\n",
       "    </tr>\n",
       "    <tr>\n",
       "      <th>2013-07-03</th>\n",
       "      <td>2.2681</td>\n",
       "      <td>2.2540</td>\n",
       "      <td>2.2717</td>\n",
       "      <td>2.2506</td>\n",
       "      <td>0.60%</td>\n",
       "    </tr>\n",
       "  </tbody>\n",
       "</table>\n",
       "</div>"
      ],
      "text/plain": [
       "             Price    Open    High     Low Change %\n",
       "Date                                               \n",
       "2013-07-09  2.2571  2.2650  2.2659  2.2571   -0.31%\n",
       "2013-07-08  2.2642  2.2524  2.2648  2.2443    0.52%\n",
       "2013-07-05  2.2525  2.2485  2.2707  2.2440    0.20%\n",
       "2013-07-04  2.2480  2.2681  2.2728  2.2475   -0.89%\n",
       "2013-07-03  2.2681  2.2540  2.2717  2.2506    0.60%"
      ]
     },
     "execution_count": 203,
     "metadata": {},
     "output_type": "execute_result"
    }
   ],
   "source": [
    "df_dol.head()"
   ]
  },
  {
   "cell_type": "code",
   "execution_count": 204,
   "metadata": {},
   "outputs": [],
   "source": [
    "df_dol = df_dol.sort_values(by=['Date'],ascending=True)"
   ]
  },
  {
   "cell_type": "code",
   "execution_count": 205,
   "metadata": {},
   "outputs": [],
   "source": [
    "df_dol.to_csv('df_usd.csv')"
   ]
  },
  {
   "cell_type": "code",
   "execution_count": 206,
   "metadata": {},
   "outputs": [],
   "source": [
    "####################"
   ]
  },
  {
   "cell_type": "code",
   "execution_count": 207,
   "metadata": {},
   "outputs": [],
   "source": [
    "df_ibov_1 = pd.read_csv(filepath_or_buffer='./df_ibov.csv')\n",
    "df_usd = pd.read_csv(filepath_or_buffer='./df_usd.csv')"
   ]
  },
  {
   "cell_type": "code",
   "execution_count": 208,
   "metadata": {},
   "outputs": [],
   "source": [
    "final_df = df_ibov_1.join(df_usd, lsuffix='Date')"
   ]
  },
  {
   "cell_type": "code",
   "execution_count": 209,
   "metadata": {},
   "outputs": [],
   "source": [
    "final_df = final_df[['Date','Close','Price']]"
   ]
  },
  {
   "cell_type": "code",
   "execution_count": 210,
   "metadata": {},
   "outputs": [
    {
     "data": {
      "text/html": [
       "<div>\n",
       "<style scoped>\n",
       "    .dataframe tbody tr th:only-of-type {\n",
       "        vertical-align: middle;\n",
       "    }\n",
       "\n",
       "    .dataframe tbody tr th {\n",
       "        vertical-align: top;\n",
       "    }\n",
       "\n",
       "    .dataframe thead th {\n",
       "        text-align: right;\n",
       "    }\n",
       "</style>\n",
       "<table border=\"1\" class=\"dataframe\">\n",
       "  <thead>\n",
       "    <tr style=\"text-align: right;\">\n",
       "      <th></th>\n",
       "      <th>Date</th>\n",
       "      <th>Close</th>\n",
       "      <th>Price</th>\n",
       "    </tr>\n",
       "  </thead>\n",
       "  <tbody>\n",
       "    <tr>\n",
       "      <th>0</th>\n",
       "      <td>2000-01-03</td>\n",
       "      <td>16930.0</td>\n",
       "      <td>1.8200</td>\n",
       "    </tr>\n",
       "    <tr>\n",
       "      <th>1</th>\n",
       "      <td>2000-01-04</td>\n",
       "      <td>15851.0</td>\n",
       "      <td>1.8490</td>\n",
       "    </tr>\n",
       "    <tr>\n",
       "      <th>2</th>\n",
       "      <td>2000-01-05</td>\n",
       "      <td>16245.0</td>\n",
       "      <td>1.8380</td>\n",
       "    </tr>\n",
       "    <tr>\n",
       "      <th>3</th>\n",
       "      <td>2000-01-06</td>\n",
       "      <td>16107.0</td>\n",
       "      <td>1.8410</td>\n",
       "    </tr>\n",
       "    <tr>\n",
       "      <th>4</th>\n",
       "      <td>2000-01-07</td>\n",
       "      <td>16309.0</td>\n",
       "      <td>1.8275</td>\n",
       "    </tr>\n",
       "  </tbody>\n",
       "</table>\n",
       "</div>"
      ],
      "text/plain": [
       "         Date    Close   Price\n",
       "0  2000-01-03  16930.0  1.8200\n",
       "1  2000-01-04  15851.0  1.8490\n",
       "2  2000-01-05  16245.0  1.8380\n",
       "3  2000-01-06  16107.0  1.8410\n",
       "4  2000-01-07  16309.0  1.8275"
      ]
     },
     "execution_count": 210,
     "metadata": {},
     "output_type": "execute_result"
    }
   ],
   "source": [
    "final_df.head()"
   ]
  },
  {
   "cell_type": "code",
   "execution_count": 211,
   "metadata": {},
   "outputs": [],
   "source": [
    "final_df.to_csv('final_df.csv')"
   ]
  }
 ],
 "metadata": {
  "kernelspec": {
   "display_name": "Python 3.10.4 64-bit",
   "language": "python",
   "name": "python3"
  },
  "language_info": {
   "codemirror_mode": {
    "name": "ipython",
    "version": 3
   },
   "file_extension": ".py",
   "mimetype": "text/x-python",
   "name": "python",
   "nbconvert_exporter": "python",
   "pygments_lexer": "ipython3",
   "version": "3.10.4"
  },
  "orig_nbformat": 4,
  "vscode": {
   "interpreter": {
    "hash": "916dbcbb3f70747c44a77c7bcd40155683ae19c65e1c03b4aa3499c5328201f1"
   }
  }
 },
 "nbformat": 4,
 "nbformat_minor": 2
}
